{
 "cells": [
  {
   "cell_type": "code",
   "execution_count": 7,
   "metadata": {},
   "outputs": [],
   "source": [
    "import json\n",
    "#reading data from a json file \n",
    "with open('jsondata.json') as inputfile:\n",
    "    data = json.load(inputfile)\n",
    "#data[0]    "
   ]
  },
  {
   "cell_type": "code",
   "execution_count": 12,
   "metadata": {},
   "outputs": [],
   "source": [
    "#writing above data to a json file using dump method ie converting dict to string and then writing it to a file\n",
    "with open('writedata.json','w') as outfile:\n",
    "    json.dump(data,outfile)\n",
    "    \n",
    "#reading data from outfile\n",
    "with open('writedata.json','r') as file:\n",
    "    out = json.load(file)\n",
    "#out    "
   ]
  },
  {
   "cell_type": "code",
   "execution_count": null,
   "metadata": {},
   "outputs": [],
   "source": []
  }
 ],
 "metadata": {
  "kernelspec": {
   "display_name": "Python 3",
   "language": "python",
   "name": "python3"
  },
  "language_info": {
   "codemirror_mode": {
    "name": "ipython",
    "version": 3
   },
   "file_extension": ".py",
   "mimetype": "text/x-python",
   "name": "python",
   "nbconvert_exporter": "python",
   "pygments_lexer": "ipython3",
   "version": "3.6.5"
  }
 },
 "nbformat": 4,
 "nbformat_minor": 2
}
